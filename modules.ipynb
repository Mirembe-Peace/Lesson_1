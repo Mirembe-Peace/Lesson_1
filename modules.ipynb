{
 "cells": [
  {
   "cell_type": "markdown",
   "id": "c6ea209d",
   "metadata": {},
   "source": [
    "# **Modules 🚙**\n",
    "\n",
    "> **Definition:** A python file containing functions, classes and variables"
   ]
  },
  {
   "cell_type": "markdown",
   "id": "8caf0874",
   "metadata": {},
   "source": [
    "## 1. **OS Module**"
   ]
  },
  {
   "cell_type": "code",
   "execution_count": 2,
   "id": "7354c5de",
   "metadata": {},
   "outputs": [],
   "source": [
    "import os"
   ]
  },
  {
   "cell_type": "code",
   "execution_count": 3,
   "id": "74d73141",
   "metadata": {},
   "outputs": [
    {
     "data": {
      "text/plain": [
       "'c:\\\\Users\\\\Lenovo pro\\\\Desktop\\\\WORK_2025\\\\SECOND_YEAR\\\\FIRST_SEM\\\\Data_Science\\\\DS_in_Python\\\\Lesson_1'"
      ]
     },
     "execution_count": 3,
     "metadata": {},
     "output_type": "execute_result"
    }
   ],
   "source": [
    "os.getcwd()"
   ]
  },
  {
   "cell_type": "code",
   "execution_count": 4,
   "id": "3a2ee15b",
   "metadata": {},
   "outputs": [
    {
     "data": {
      "text/plain": [
       "['.git', 'introduction.ipynb', 'modules.ipynb']"
      ]
     },
     "execution_count": 4,
     "metadata": {},
     "output_type": "execute_result"
    }
   ],
   "source": [
    "os.listdir()"
   ]
  },
  {
   "cell_type": "markdown",
   "id": "817ad0b2",
   "metadata": {},
   "source": [
    "## 2. **Pandas and Numpy 🐼**\n",
    "\n",
    "- **Pandas:**\n",
    "The purpose of pandas is to help us analyze, clean, explore and manipulate datasets. It can be compared to microsoft \n",
    "\n",
    "**Python Pandas VS Excel**\n",
    "- Excel is limited by capacity that it can hold\n",
    "- Python can handle complex data transformation\n",
    "- Python is capable of automation\n",
    "- Python has cross-platform capabilities\n",
    "\n",
    "**Structure of Pandas working**\n",
    "1. 1D Array (Series)\n",
    "2. 2D Array (Dataframe)\n",
    "\n",
    "2. **Data Frame**\n",
    "    - A column is known as ***series***\n",
    "    - Intersection of a row and a column is known as ***data***\n",
    "    - A series title/names are known as ***features***\n",
    "    - A series should contain data of the same data type\n",
    "    - A row is known as an ***observation***\n",
    "    - Observation(rows) heading known as ***index***\n",
    "\n"
   ]
  },
  {
   "cell_type": "markdown",
   "id": "49e5a5f3",
   "metadata": {},
   "source": [
    "#### **How to create a Dataframe**"
   ]
  },
  {
   "cell_type": "markdown",
   "id": "77f320bc",
   "metadata": {},
   "source": [
    "1. **Using Arrays**\n",
    "\n",
    "![Dataframe using an array](array.png)"
   ]
  },
  {
   "cell_type": "code",
   "execution_count": null,
   "id": "c70ccf9b",
   "metadata": {},
   "outputs": [],
   "source": []
  },
  {
   "cell_type": "markdown",
   "id": "816ab3a3",
   "metadata": {},
   "source": [
    "2. **Using Dictionary**\n",
    "\n",
    "![Dataframe using a dictionary](dict.png)"
   ]
  }
 ],
 "metadata": {
  "kernelspec": {
   "display_name": "Python 3",
   "language": "python",
   "name": "python3"
  },
  "language_info": {
   "codemirror_mode": {
    "name": "ipython",
    "version": 3
   },
   "file_extension": ".py",
   "mimetype": "text/x-python",
   "name": "python",
   "nbconvert_exporter": "python",
   "pygments_lexer": "ipython3",
   "version": "3.13.2"
  }
 },
 "nbformat": 4,
 "nbformat_minor": 5
}
